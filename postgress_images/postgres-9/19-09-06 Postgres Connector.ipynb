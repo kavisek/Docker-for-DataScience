{
 "cells": [
  {
   "cell_type": "markdown",
   "metadata": {},
   "source": [
    "# <center> Postgress Connector </center>\n",
    "\n",
    "### Import Preliminaries"
   ]
  },
  {
   "cell_type": "code",
   "execution_count": 1,
   "metadata": {},
   "outputs": [],
   "source": [
    "# Import Module\n",
    "import psycopg2"
   ]
  },
  {
   "cell_type": "markdown",
   "metadata": {},
   "source": [
    "### Create a New Database"
   ]
  },
  {
   "cell_type": "code",
   "execution_count": 2,
   "metadata": {},
   "outputs": [],
   "source": [
    "# Import Postgress Connector\n",
    "conn = psycopg2.connect(\n",
    "    host='localhost',\n",
    "    port=54320, #5432 will also work\n",
    "    user='postgres',\n",
    ")"
   ]
  },
  {
   "cell_type": "code",
   "execution_count": 3,
   "metadata": {},
   "outputs": [],
   "source": [
    "# Open connection and create database\n",
    "conn.autocommit = True\n",
    "cur = conn.cursor()\n",
    "\n",
    "cur.execute(\"DROP DATABASE my_database;\")\n",
    "cur.execute(\"CREATE DATABASE my_database;\")\n",
    "cur.close()\n",
    "conn.close()"
   ]
  },
  {
   "cell_type": "markdown",
   "metadata": {},
   "source": [
    "### Connect Cursor to the New Databasem"
   ]
  },
  {
   "cell_type": "code",
   "execution_count": 4,
   "metadata": {},
   "outputs": [],
   "source": [
    "# Import Postgress Connector\n",
    "conn = psycopg2.connect(\n",
    "    host='localhost',\n",
    "    port=54320, #5432 will also work\n",
    "    dbname='my_database',\n",
    "    user='postgres',\n",
    ")"
   ]
  },
  {
   "cell_type": "code",
   "execution_count": 5,
   "metadata": {},
   "outputs": [
    {
     "name": "stdout",
     "output_type": "stream",
     "text": [
      "(1, 100, 'abcdef')\n"
     ]
    }
   ],
   "source": [
    "# Open connection, create table, insert data, select data, print result, close connection\n",
    "cur = conn.cursor()\n",
    "cur.execute(\"CREATE TABLE IF NOT EXISTS test (id serial PRIMARY KEY, num integer, data varchar);\")\n",
    "cur.execute(\"INSERT INTO test (num, data) VALUES (%s, %s)\", (100, \"abcdef\"))\n",
    "cur.execute(\"SELECT * FROM test;\")\n",
    "result = cur.fetchone()\n",
    "print(result)\n",
    "conn.commit()\n",
    "cur.close()\n",
    "conn.close()"
   ]
  },
  {
   "cell_type": "markdown",
   "metadata": {},
   "source": [
    "## <center> Pandas Connector </center>\n",
    "\n",
    "### Import Modules"
   ]
  },
  {
   "cell_type": "code",
   "execution_count": null,
   "metadata": {},
   "outputs": [],
   "source": [
    "import pandas as pd\n",
    "from sqlalchemy import create_engine"
   ]
  },
  {
   "cell_type": "markdown",
   "metadata": {},
   "source": [
    "### Query to DataFrame"
   ]
  },
  {
   "cell_type": "code",
   "execution_count": null,
   "metadata": {},
   "outputs": [],
   "source": [
    "engine = create_engine('postgresql://postgres@localhost:54320/my_database')\n",
    "\n",
    "# Query portgress database into \n",
    "df = pd.read_sql_query('SELECT * FROM \"test\"',con=engine)\n",
    "\n",
    "# View the head of the dataframe\n",
    "df.head()"
   ]
  },
  {
   "cell_type": "markdown",
   "metadata": {},
   "source": [
    "### DataFrame to Table"
   ]
  },
  {
   "cell_type": "code",
   "execution_count": null,
   "metadata": {},
   "outputs": [],
   "source": [
    "df = pd.DataFrame({'Index':[1,2,3,4,5,6,7,8],\n",
    "                  'Name': ['A','B','C','D','E','F','G','H'],\n",
    "                  'Grade': ['A','B','C','D','A','A','A','F']})\n",
    "df.head(n=10)"
   ]
  },
  {
   "cell_type": "code",
   "execution_count": null,
   "metadata": {},
   "outputs": [],
   "source": [
    "table_name = 'letter_grades'\n",
    "df.to_sql(table_name,con=engine, if_exists='replace', index=False)"
   ]
  },
  {
   "cell_type": "code",
   "execution_count": null,
   "metadata": {},
   "outputs": [],
   "source": [
    "# Query portgress database into \n",
    "lg_df = pd.read_sql_query('SELECT * FROM \"letter_grades\"',con=engine)\n",
    "\n",
    "# View the head of the dataframe\n",
    "lg_df.head(n=10)"
   ]
  },
  {
   "cell_type": "markdown",
   "metadata": {},
   "source": [
    "### Chunksize Testing"
   ]
  },
  {
   "cell_type": "code",
   "execution_count": null,
   "metadata": {},
   "outputs": [],
   "source": [
    "lg_df_list = []\n",
    "for i in range(100000):\n",
    "    lg_df_list.append(lg_df)\n",
    "    \n",
    "lg_max_df = pd.concat(lg_df_list)\n",
    "lg_max_df = lg_max_df.reset_index()\n",
    "lg_max_df.tail(10)"
   ]
  },
  {
   "cell_type": "code",
   "execution_count": null,
   "metadata": {},
   "outputs": [],
   "source": [
    "import time\n",
    "import matplotlib.pyplot as plt"
   ]
  },
  {
   "cell_type": "code",
   "execution_count": null,
   "metadata": {},
   "outputs": [],
   "source": [
    "chuncksizes = []\n",
    "time_length = []\n",
    "for i in range(1,100000,500):\n",
    "    start_time = time.time()\n",
    "    chuncksizes.append(i)\n",
    "    engine = create_engine('postgresql://postgres@localhost:54320/my_database')\n",
    "    table_name = 'letter_grades'\n",
    "    df.to_sql(table_name,con=engine, if_exists='replace', index=False, chunksize=i)\n",
    "    end_time = time.time()\n",
    "    length =  end_time - start_time\n",
    "    time_length.append(length)"
   ]
  },
  {
   "cell_type": "code",
   "execution_count": null,
   "metadata": {},
   "outputs": [],
   "source": [
    "plt.figure(figsize=(20,5))\n",
    "plt.plot(chuncksizes, time_length)\n",
    "plt.title('Load Time by Chuncksize')\n",
    "plt.ylabel('Time')\n",
    "plt.xlabel('Chunksize');"
   ]
  },
  {
   "cell_type": "markdown",
   "metadata": {},
   "source": [
    "### Reference\n",
    "- https://www.saltycrane.com/blog/2019/01/how-run-postgresql-docker-mac-local-development/"
   ]
  }
 ],
 "metadata": {
  "kernelspec": {
   "display_name": "Python 3",
   "language": "python",
   "name": "python3"
  },
  "language_info": {
   "codemirror_mode": {
    "name": "ipython",
    "version": 3
   },
   "file_extension": ".py",
   "mimetype": "text/x-python",
   "name": "python",
   "nbconvert_exporter": "python",
   "pygments_lexer": "ipython3",
   "version": "3.7.2"
  }
 },
 "nbformat": 4,
 "nbformat_minor": 4
}
