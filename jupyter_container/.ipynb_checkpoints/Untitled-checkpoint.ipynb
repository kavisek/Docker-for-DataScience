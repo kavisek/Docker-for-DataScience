{
 "cells": [
  {
   "cell_type": "code",
   "execution_count": 1,
   "id": "stone-marina",
   "metadata": {},
   "outputs": [
    {
     "name": "stdout",
     "output_type": "stream",
     "text": [
      "1\n"
     ]
    }
   ],
   "source": [
    "print(1)"
   ]
  },
  {
   "cell_type": "code",
   "execution_count": 2,
   "id": "satisfied-timer",
   "metadata": {},
   "outputs": [
    {
     "name": "stdout",
     "output_type": "stream",
     "text": [
      "gopi is awesome\n"
     ]
    }
   ],
   "source": [
    "print(\"gopi is awesome\")"
   ]
  },
  {
   "cell_type": "code",
   "execution_count": 3,
   "id": "unable-interaction",
   "metadata": {},
   "outputs": [
    {
     "name": "stdout",
     "output_type": "stream",
     "text": [
      "test\n",
      "test\n",
      "test\n",
      "test\n",
      "test\n",
      "test\n",
      "test\n",
      "test\n",
      "test\n",
      "test\n"
     ]
    }
   ],
   "source": [
    "for i in range(10):\n",
    "    print(\"test\")"
   ]
  },
  {
   "cell_type": "code",
   "execution_count": 4,
   "id": "constitutional-pendant",
   "metadata": {},
   "outputs": [
    {
     "name": "stdout",
     "output_type": "stream",
     "text": [
      "/jup\n"
     ]
    }
   ],
   "source": [
    "!pwd"
   ]
  },
  {
   "cell_type": "code",
   "execution_count": 6,
   "id": "relative-forwarding",
   "metadata": {},
   "outputs": [
    {
     "name": "stdout",
     "output_type": "stream",
     "text": [
      "Collecting xkcd\n",
      "  Downloading xkcd-2.4.2.tar.gz (10 kB)\n",
      "Building wheels for collected packages: xkcd\n",
      "  Building wheel for xkcd (setup.py) ... \u001b[?25ldone\n",
      "\u001b[?25h  Created wheel for xkcd: filename=xkcd-2.4.2-py3-none-any.whl size=9187 sha256=dce86cee93a6ae5f95936f14f707e8a6f1ba69611a5e8a329c99bcff9870e855\n",
      "  Stored in directory: /root/.cache/pip/wheels/5e/b8/45/2bccfbc758e178bd6a0e5be0b3c942a9846ce4be6084a50af7\n",
      "Successfully built xkcd\n",
      "Installing collected packages: xkcd\n",
      "Successfully installed xkcd-2.4.2\n"
     ]
    }
   ],
   "source": [
    "!pip install xkcd"
   ]
  },
  {
   "cell_type": "code",
   "execution_count": null,
   "id": "minus-nation",
   "metadata": {},
   "outputs": [],
   "source": []
  }
 ],
 "metadata": {
  "kernelspec": {
   "display_name": "Python 3",
   "language": "python",
   "name": "python3"
  },
  "language_info": {
   "codemirror_mode": {
    "name": "ipython",
    "version": 3
   },
   "file_extension": ".py",
   "mimetype": "text/x-python",
   "name": "python",
   "nbconvert_exporter": "python",
   "pygments_lexer": "ipython3",
   "version": "3.6.12"
  }
 },
 "nbformat": 4,
 "nbformat_minor": 5
}
